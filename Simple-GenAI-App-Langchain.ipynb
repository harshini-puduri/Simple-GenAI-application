{
 "cells": [
  {
   "cell_type": "code",
   "execution_count": 1,
   "id": "41d2c5b6",
   "metadata": {},
   "outputs": [
    {
     "data": {
      "text/plain": [
       "True"
      ]
     },
     "execution_count": 1,
     "metadata": {},
     "output_type": "execute_result"
    }
   ],
   "source": [
    "import os\n",
    "from dotenv import load_dotenv\n",
    "load_dotenv()"
   ]
  },
  {
   "cell_type": "code",
   "execution_count": 2,
   "id": "5d216dc4",
   "metadata": {},
   "outputs": [],
   "source": [
    "os.environ[\"OPENAI_API_KEY\"] = os.getenv(\"OPENAI_API_KEY\")\n",
    "os.environ[\"LANGCHAIN_API_KEY\"] = os.getenv(\"LANGCHAIN_API_KEY\")\n",
    "os.environ[\"LANGCHAIN_TRACING_V2\"] = \"true\"\n",
    "os.environ[\"LANGCHAIN_PROJECT\"] = os.getenv(\"LANGCHAIN_PROJECT\")"
   ]
  },
  {
   "cell_type": "code",
   "execution_count": null,
   "id": "f39d0181",
   "metadata": {},
   "outputs": [
    {
     "name": "stderr",
     "output_type": "stream",
     "text": [
      "USER_AGENT environment variable not set, consider setting it to identify your requests.\n"
     ]
    },
    {
     "data": {
      "text/plain": [
       "<langchain_community.document_loaders.web_base.WebBaseLoader at 0x10ef253f0>"
      ]
     },
     "execution_count": 3,
     "metadata": {},
     "output_type": "execute_result"
    }
   ],
   "source": [
    "## scrap the data from the website url\n",
    "from langchain_community.document_loaders import WebBaseLoader\n",
    "loader = WebBaseLoader(\"https://www.adamsstreetpartners.com/insights/the-next-frontier-the-rise-of-agentic-ai/\")\n",
    "loader"
   ]
  },
  {
   "cell_type": "code",
   "execution_count": 4,
   "id": "a465fcd3",
   "metadata": {},
   "outputs": [],
   "source": [
    "docs=loader.load()"
   ]
  },
  {
   "cell_type": "code",
   "execution_count": 5,
   "id": "44cf4658",
   "metadata": {},
   "outputs": [],
   "source": [
    "##text splitter\n",
    "from langchain_text_splitters import RecursiveCharacterTextSplitter\n",
    "splitter = RecursiveCharacterTextSplitter(chunk_size=400, chunk_overlap=70)\n",
    "chunks = splitter.split_documents(docs)"
   ]
  },
  {
   "cell_type": "code",
   "execution_count": 6,
   "id": "3b410f41",
   "metadata": {},
   "outputs": [
    {
     "data": {
      "text/plain": [
       "[Document(metadata={'source': 'https://www.adamsstreetpartners.com/insights/the-next-frontier-the-rise-of-agentic-ai/', 'title': 'The Next Frontier: The Rise of Agentic AI', 'description': 'Agentic AI systems hold the potential to achieve specific goals by dynamically interacting with human and model inputs to make decisions autonomously.', 'language': 'en-US'}, page_content='The Next Frontier: The Rise of Agentic AI\\n\\n\\n\\n\\n\\n\\n\\n\\n\\n\\n\\n\\n\\n\\n\\n\\n\\n\\n\\n\\n\\n\\n\\n\\n\\n\\n\\n\\n\\n\\n\\n\\n\\n\\n\\n\\n\\n\\n\\n\\n\\n\\n\\n\\n\\n\\n\\n\\n\\n\\n\\n\\n\\n\\n\\n\\n\\n\\n\\n\\n\\n\\n\\n\\n  \\n\\n\\n\\n\\n\\n\\n\\n \\n\\n\\n\\n\\n\\n\\n\\n\\n\\n\\n\\n\\n\\n\\n\\nSkip to Main Content\\n\\n\\nClose Search Box\\n\\n\\n\\nSearch for:\\n\\n\\n\\n\\n Search'),\n",
       " Document(metadata={'source': 'https://www.adamsstreetpartners.com/insights/the-next-frontier-the-rise-of-agentic-ai/', 'title': 'The Next Frontier: The Rise of Agentic AI', 'description': 'Agentic AI systems hold the potential to achieve specific goals by dynamically interacting with human and model inputs to make decisions autonomously.', 'language': 'en-US'}, page_content='Close Search Box\\n\\n\\n\\nSearch for:\\n\\n\\n\\n\\n Search \\n\\n\\n\\n \\n\\n\\n\\n\\n\\n\\n\\n\\nThis is a popup dialog that overlays the main content of the page. The popup includes a search form to help you find the information you are seeking. Pressing the go back button or using the escape key will close the popup.'),\n",
       " Document(metadata={'source': 'https://www.adamsstreetpartners.com/insights/the-next-frontier-the-rise-of-agentic-ai/', 'title': 'The Next Frontier: The Rise of Agentic AI', 'description': 'Agentic AI systems hold the potential to achieve specific goals by dynamically interacting with human and model inputs to make decisions autonomously.', 'language': 'en-US'}, page_content='This site and the materials herein are directed only to financial advisors or other investment professionals with clients that meet the requirements to participate in private market offerings (generally, an accredited investor, qualified client and/or qualified purchaser), and are not intended to be shown to the general public.'),\n",
       " Document(metadata={'source': 'https://www.adamsstreetpartners.com/insights/the-next-frontier-the-rise-of-agentic-ai/', 'title': 'The Next Frontier: The Rise of Agentic AI', 'description': 'Agentic AI systems hold the potential to achieve specific goals by dynamically interacting with human and model inputs to make decisions autonomously.', 'language': 'en-US'}, page_content='I acknowledge that I am a financial advisor or investment professional and agree to the terms.\\n\\n\\n Take Me There\\n Go Back  \\n\\n\\n\\n\\n \\n\\n\\n\\n\\n\\n\\n \\n\\n\\nX\\n\\nPlease update your browser.\\nFor the best experience, we recommend that you use the latest version of Chrome, Internet Explorer, or Firefox.\\n\\n\\n\\n\\nClose Search Box\\n\\n\\n\\nSearch for:\\n\\n\\n\\n\\n Search \\n\\n\\n\\n \\n\\n\\n\\n\\n\\n\\n\\n\\n\\n\\n\\nToggle Search'),\n",
       " Document(metadata={'source': 'https://www.adamsstreetpartners.com/insights/the-next-frontier-the-rise-of-agentic-ai/', 'title': 'The Next Frontier: The Rise of Agentic AI', 'description': 'Agentic AI systems hold the potential to achieve specific goals by dynamically interacting with human and model inputs to make decisions autonomously.', 'language': 'en-US'}, page_content='Search for:\\n\\n\\n\\n\\n Search \\n\\n\\n\\n \\n\\n\\n\\n\\n\\n\\n\\n\\n\\n\\n\\nToggle Search\\n\\n\\n\\n\\n\\n\\n\\n\\n\\n\\n\\n\\n\\n\\nCareers\\nInvestors\\nContact\\n\\n \\n\\n\\n\\n\\n\\n\\n\\n\\n\\nOur Firm\\n\\n\\n\\n\\n\\nHistoryTeamLeadershipNewsOffices \\n \\n\\nStrategies & Solutions\\n\\n\\n\\n\\n\\nDedicated Strategies \\nCo-InvestmentsGrowth EquityPrimary InvestmentsPrivate Credit\\n\\nPrivate Credit \\nSecondary Investments'),\n",
       " Document(metadata={'source': 'https://www.adamsstreetpartners.com/insights/the-next-frontier-the-rise-of-agentic-ai/', 'title': 'The Next Frontier: The Rise of Agentic AI', 'description': 'Agentic AI systems hold the potential to achieve specific goals by dynamically interacting with human and model inputs to make decisions autonomously.', 'language': 'en-US'}, page_content='Focused Solutions'),\n",
       " Document(metadata={'source': 'https://www.adamsstreetpartners.com/insights/the-next-frontier-the-rise-of-agentic-ai/', 'title': 'The Next Frontier: The Rise of Agentic AI', 'description': 'Agentic AI systems hold the potential to achieve specific goals by dynamically interacting with human and model inputs to make decisions autonomously.', 'language': 'en-US'}, page_content='Custom SolutionsCustomized private market solutions to meet specific objectivesGrowth Capital SolutionsHelping entrepreneurs and CEOs build market-leading companiesInsurance SolutionsDesigned to support our insurance company clients’ needs in a capital efficient mannerPrivate Wealth SolutionsPartnering with wealth advisors to help their clients evaluate private markets solutions'),\n",
       " Document(metadata={'source': 'https://www.adamsstreetpartners.com/insights/the-next-frontier-the-rise-of-agentic-ai/', 'title': 'The Next Frontier: The Rise of Agentic AI', 'description': 'Agentic AI systems hold the potential to achieve specific goals by dynamically interacting with human and model inputs to make decisions autonomously.', 'language': 'en-US'}, page_content='Wealth Advisors\\nPrivate Wealth Solutions ›\\nSupporting wealth advisors to help grow and protect client wealth\\n\\xa0\\nAdvisor Academy ›\\nPrivate markets educational resource for wealth platforms, FAs, and RIAs\\n \\n \\n\\nResponsibility\\n\\n\\n\\n\\n\\nInvestingPeopleCommunity \\n \\n\\nInsightsEntrepreneurs & CEOs\\n\\n\\n\\n\\n\\nOverviewTeamApproachCompaniesHow We HelpPerspectives \\n \\n\\n\\n\\n\\n\\n\\n\\nOur Firm'),\n",
       " Document(metadata={'source': 'https://www.adamsstreetpartners.com/insights/the-next-frontier-the-rise-of-agentic-ai/', 'title': 'The Next Frontier: The Rise of Agentic AI', 'description': 'Agentic AI systems hold the potential to achieve specific goals by dynamically interacting with human and model inputs to make decisions autonomously.', 'language': 'en-US'}, page_content='Our Firm\\n\\nHistory\\nTeam\\nLeadership\\nNews\\nOffices\\n\\n\\nStrategies & Solutions\\n\\nCo-Investments\\nGrowth Equity\\nPrimary Investments\\nPrivate Credit\\n\\nPrivate Credit\\n\\n\\nSecondary Investments\\nGrowth Capital Solutions\\nInsurance Solutions\\nCustom Solutions\\nPrivate Wealth Solutions\\n\\n\\nResponsibility\\n\\nInvesting\\nPeople\\nCommunity\\n\\n\\nInsights\\nEntrepreneurs & CEOs'),\n",
       " Document(metadata={'source': 'https://www.adamsstreetpartners.com/insights/the-next-frontier-the-rise-of-agentic-ai/', 'title': 'The Next Frontier: The Rise of Agentic AI', 'description': 'Agentic AI systems hold the potential to achieve specific goals by dynamically interacting with human and model inputs to make decisions autonomously.', 'language': 'en-US'}, page_content='Investing\\nPeople\\nCommunity\\n\\n\\nInsights\\nEntrepreneurs & CEOs\\n\\nOverview\\nTeam\\nApproach\\nCompanies\\nHow We Help\\nPerspectives\\n\\n\\n Careers\\nInvestors\\nContact\\n \\n\\n\\n\\n\\n\\n\\n\\n\\n\\n \\n\\n\\n\\n\\n\\n\\nInsights\\xa0/\\xa0The Next Frontier: The Rise of Agentic AIThe Next Frontier: The Rise of Agentic AI4 Minute Read \\n\\n\\n\\n\\n\\n\\n\\n\\n\\n\\n\\n\\n\\n                       Mar 12, 2025\\n                    \\n\\n\\nBrian Dudley\\nPartner, Growth Equity'),\n",
       " Document(metadata={'source': 'https://www.adamsstreetpartners.com/insights/the-next-frontier-the-rise-of-agentic-ai/', 'title': 'The Next Frontier: The Rise of Agentic AI', 'description': 'Agentic AI systems hold the potential to achieve specific goals by dynamically interacting with human and model inputs to make decisions autonomously.', 'language': 'en-US'}, page_content='Brian Dudley\\nPartner, Growth Equity\\n\\n\\n\\n\\nThomas DelMastro\\nAssociate, Growth Equity\\n\\nDownload \\n\\n\\n\\n\\n                       Mar 12, 2025\\n                    \\n\\n\\nBrian Dudley\\nPartner, Growth Equity\\n\\n\\n\\n\\nThomas DelMastro\\nAssociate, Growth Equity\\n\\nDownload \\n\\nKey Takeaways'),\n",
       " Document(metadata={'source': 'https://www.adamsstreetpartners.com/insights/the-next-frontier-the-rise-of-agentic-ai/', 'title': 'The Next Frontier: The Rise of Agentic AI', 'description': 'Agentic AI systems hold the potential to achieve specific goals by dynamically interacting with human and model inputs to make decisions autonomously.', 'language': 'en-US'}, page_content='Agentic AI systems go beyond providing rote, predetermined outputs by autonomously executing intricate workflows and making dynamic decisions to achieve defined outcomes\\nWhile use cases are still in early development, agentic AI systems are beginning to demonstrate their value in areas like procurement, sales support, and customer service'),\n",
       " Document(metadata={'source': 'https://www.adamsstreetpartners.com/insights/the-next-frontier-the-rise-of-agentic-ai/', 'title': 'The Next Frontier: The Rise of Agentic AI', 'description': 'Agentic AI systems hold the potential to achieve specific goals by dynamically interacting with human and model inputs to make decisions autonomously.', 'language': 'en-US'}, page_content='Organizations of the future may operate with millions of agentic AI systems under human supervision\\nWe believe the next wave of AI startups will likely be those that successfully harness agentic AI to unlock new efficiencies, products, and business models'),\n",
       " Document(metadata={'source': 'https://www.adamsstreetpartners.com/insights/the-next-frontier-the-rise-of-agentic-ai/', 'title': 'The Next Frontier: The Rise of Agentic AI', 'description': 'Agentic AI systems hold the potential to achieve specific goals by dynamically interacting with human and model inputs to make decisions autonomously.', 'language': 'en-US'}, page_content='Artificial Intelligence (AI) is evolving beyond static models and passive assistants into something far more dynamic—agentic AI. These systems don’t just respond to queries; they autonomously plan, execute, and adapt to complex objectives. In short, AI is moving from thought to action.'),\n",
       " Document(metadata={'source': 'https://www.adamsstreetpartners.com/insights/the-next-frontier-the-rise-of-agentic-ai/', 'title': 'The Next Frontier: The Rise of Agentic AI', 'description': 'Agentic AI systems hold the potential to achieve specific goals by dynamically interacting with human and model inputs to make decisions autonomously.', 'language': 'en-US'}, page_content='What is Agentic AI?\\nAgentic AI refers to AI systems capable of independent decision making, long-term goal pursuit, and iterative problem solving. Unlike traditional AI, which is often reactive and constrained to specific tasks, agentic AI operates with a degree of self-direction, dynamically interacting with its environment, other models, and humans, to achieve defined outcomes.'),\n",
       " Document(metadata={'source': 'https://www.adamsstreetpartners.com/insights/the-next-frontier-the-rise-of-agentic-ai/', 'title': 'The Next Frontier: The Rise of Agentic AI', 'description': 'Agentic AI systems hold the potential to achieve specific goals by dynamically interacting with human and model inputs to make decisions autonomously.', 'language': 'en-US'}, page_content='While agentic AI systems leverage the creative capabilities of generative AI models such as ChatGPT, they differ in key ways. First, instead of merely generating content, they are designed to make decisions. Second, unlike models that require human prompts, agentic AI autonomously works toward specific goals, such as increasing sales or improving customer satisfaction. Finally, these systems'),\n",
       " Document(metadata={'source': 'https://www.adamsstreetpartners.com/insights/the-next-frontier-the-rise-of-agentic-ai/', 'title': 'The Next Frontier: The Rise of Agentic AI', 'description': 'Agentic AI systems hold the potential to achieve specific goals by dynamically interacting with human and model inputs to make decisions autonomously.', 'language': 'en-US'}, page_content='sales or improving customer satisfaction. Finally, these systems execute intricate workflows, accessing databases and initiating processes independently.'),\n",
       " Document(metadata={'source': 'https://www.adamsstreetpartners.com/insights/the-next-frontier-the-rise-of-agentic-ai/', 'title': 'The Next Frontier: The Rise of Agentic AI', 'description': 'Agentic AI systems hold the potential to achieve specific goals by dynamically interacting with human and model inputs to make decisions autonomously.', 'language': 'en-US'}, page_content='Why Now?\\nSeveral converging trends have set the stage for agentic AI:'),\n",
       " Document(metadata={'source': 'https://www.adamsstreetpartners.com/insights/the-next-frontier-the-rise-of-agentic-ai/', 'title': 'The Next Frontier: The Rise of Agentic AI', 'description': 'Agentic AI systems hold the potential to achieve specific goals by dynamically interacting with human and model inputs to make decisions autonomously.', 'language': 'en-US'}, page_content='Advances in Large Language Models: Improved reasoning, planning, and multistep execution enable greater autonomy.\\nMemory and Context Windows: Enhanced memory architectures allow AI agents to retain long-term context, improving performance on evolving tasks.\\nReinforcement Learning and Fine Tuning: AI agents can self-improve through reinforcement learning and environment interactions.'),\n",
       " Document(metadata={'source': 'https://www.adamsstreetpartners.com/insights/the-next-frontier-the-rise-of-agentic-ai/', 'title': 'The Next Frontier: The Rise of Agentic AI', 'description': 'Agentic AI systems hold the potential to achieve specific goals by dynamically interacting with human and model inputs to make decisions autonomously.', 'language': 'en-US'}, page_content='Tool Use and API Interactions: Agentic AI is integrating with external APIs, databases, and robotic systems, allowing it to act beyond data processing.'),\n",
       " Document(metadata={'source': 'https://www.adamsstreetpartners.com/insights/the-next-frontier-the-rise-of-agentic-ai/', 'title': 'The Next Frontier: The Rise of Agentic AI', 'description': 'Agentic AI systems hold the potential to achieve specific goals by dynamically interacting with human and model inputs to make decisions autonomously.', 'language': 'en-US'}, page_content='What are the Potential Use Cases?\\nWhile many agentic AI applications are in early development, potential use cases are emerging across industries and functions. A few examples include:'),\n",
       " Document(metadata={'source': 'https://www.adamsstreetpartners.com/insights/the-next-frontier-the-rise-of-agentic-ai/', 'title': 'The Next Frontier: The Rise of Agentic AI', 'description': 'Agentic AI systems hold the potential to achieve specific goals by dynamically interacting with human and model inputs to make decisions autonomously.', 'language': 'en-US'}, page_content='Customer Service: Traditional customer bots are limited to predefined responses, while agentic AI customer service agents can act independently, based on their understanding of customer intent and emotions. For example, an AI agent could anticipate a delayed delivery, notify the customer proactively, and offer a discount to improve satisfaction. Startups such as Sierra, Ema, and Decagon are'),\n",
       " Document(metadata={'source': 'https://www.adamsstreetpartners.com/insights/the-next-frontier-the-rise-of-agentic-ai/', 'title': 'The Next Frontier: The Rise of Agentic AI', 'description': 'Agentic AI systems hold the potential to achieve specific goals by dynamically interacting with human and model inputs to make decisions autonomously.', 'language': 'en-US'}, page_content='improve satisfaction. Startups such as Sierra, Ema, and Decagon are developing agentic AI chatbots that transform customer interactions by providing empathetic, conversational, and personalized support.'),\n",
       " Document(metadata={'source': 'https://www.adamsstreetpartners.com/insights/the-next-frontier-the-rise-of-agentic-ai/', 'title': 'The Next Frontier: The Rise of Agentic AI', 'description': 'Agentic AI systems hold the potential to achieve specific goals by dynamically interacting with human and model inputs to make decisions autonomously.', 'language': 'en-US'}, page_content='Procurement: Many procurement AI solutions enhance purchasing workflows. AI assistants function as knowledgeable co-workers, guiding employees through complex purchasing decisions by reviewing company policies and requirements. Companies such as Zip (an Adams Street portfolio company) are advancing procurement AI from assistive tools to fully autonomous agents. While current systems focus on data'),\n",
       " Document(metadata={'source': 'https://www.adamsstreetpartners.com/insights/the-next-frontier-the-rise-of-agentic-ai/', 'title': 'The Next Frontier: The Rise of Agentic AI', 'description': 'Agentic AI systems hold the potential to achieve specific goals by dynamically interacting with human and model inputs to make decisions autonomously.', 'language': 'en-US'}, page_content='tools to fully autonomous agents. While current systems focus on data analysis and guided automation, Zip’s agentic AI framework aims to independently analyze data, optimize procurement operations, and ensure compliance with minimal human input.'),\n",
       " Document(metadata={'source': 'https://www.adamsstreetpartners.com/insights/the-next-frontier-the-rise-of-agentic-ai/', 'title': 'The Next Frontier: The Rise of Agentic AI', 'description': 'Agentic AI systems hold the potential to achieve specific goals by dynamically interacting with human and model inputs to make decisions autonomously.', 'language': 'en-US'}, page_content='A recent Capgemini survey of 1,100 business executives found that 50% will implement AI agents this year. Within three years, this number is expected to rise to 82%'),\n",
       " Document(metadata={'source': 'https://www.adamsstreetpartners.com/insights/the-next-frontier-the-rise-of-agentic-ai/', 'title': 'The Next Frontier: The Rise of Agentic AI', 'description': 'Agentic AI systems hold the potential to achieve specific goals by dynamically interacting with human and model inputs to make decisions autonomously.', 'language': 'en-US'}, page_content='Sales Support: Sales teams often struggle with lead identification and nurturing due to administrative burdens. Agentic AI systems have the potential to alleviate these challenges by handling repetitive tasks, allowing sales professionals to focus on high-value activities.'),\n",
       " Document(metadata={'source': 'https://www.adamsstreetpartners.com/insights/the-next-frontier-the-rise-of-agentic-ai/', 'title': 'The Next Frontier: The Rise of Agentic AI', 'description': 'Agentic AI systems hold the potential to achieve specific goals by dynamically interacting with human and model inputs to make decisions autonomously.', 'language': 'en-US'}, page_content='Rox is reimagining how sales teams work by offering an agentic CRM. The AI-powered system not only acts as a system of record by storing customer data, but also helps businesses understand their customers on a deeper level by predicting their needs and proactively engaging with them to drive revenue growth.'),\n",
       " Document(metadata={'source': 'https://www.adamsstreetpartners.com/insights/the-next-frontier-the-rise-of-agentic-ai/', 'title': 'The Next Frontier: The Rise of Agentic AI', 'description': 'Agentic AI systems hold the potential to achieve specific goals by dynamically interacting with human and model inputs to make decisions autonomously.', 'language': 'en-US'}, page_content='Another company, 11x, has developed Alice, a digital sales development representative that autonomously identifies key decision makers and schedules meetings. Mike, its second product, automates inbound and outbound calls in 28 languages in a personalized, low-latency phone call.\\nWhat Might Agentic AI Look Like in the Workforce?'),\n",
       " Document(metadata={'source': 'https://www.adamsstreetpartners.com/insights/the-next-frontier-the-rise-of-agentic-ai/', 'title': 'The Next Frontier: The Rise of Agentic AI', 'description': 'Agentic AI systems hold the potential to achieve specific goals by dynamically interacting with human and model inputs to make decisions autonomously.', 'language': 'en-US'}, page_content='In a recent interview,1 Jensen Huang, CEO of NVIDIA, envisioned a future where every employee acts as a manager overseeing AI agents. Huang predicts that NVIDIA’s 30,000 workforce may be accompanied by millions of AI agents. He is not alone in envisioning an agentic enterprise. A recent Capgemini survey of 1,100 business executives found that 50% will implement AI agents this year, up from 10%'),\n",
       " Document(metadata={'source': 'https://www.adamsstreetpartners.com/insights/the-next-frontier-the-rise-of-agentic-ai/', 'title': 'The Next Frontier: The Rise of Agentic AI', 'description': 'Agentic AI systems hold the potential to achieve specific goals by dynamically interacting with human and model inputs to make decisions autonomously.', 'language': 'en-US'}, page_content='found that 50% will implement AI agents this year, up from 10% currently employing them. Within three years, this number is expected to rise to 82%.2'),\n",
       " Document(metadata={'source': 'https://www.adamsstreetpartners.com/insights/the-next-frontier-the-rise-of-agentic-ai/', 'title': 'The Next Frontier: The Rise of Agentic AI', 'description': 'Agentic AI systems hold the potential to achieve specific goals by dynamically interacting with human and model inputs to make decisions autonomously.', 'language': 'en-US'}, page_content='Glean (an Adams Street portfolio company) is building towards this agentic future with its recent launch of Glean Agents, a platform that enables enterprises to build, deploy, and manage AI agents at scale securely and compliantly.\\nWhat are the Possible Challenges and Risks?'),\n",
       " Document(metadata={'source': 'https://www.adamsstreetpartners.com/insights/the-next-frontier-the-rise-of-agentic-ai/', 'title': 'The Next Frontier: The Rise of Agentic AI', 'description': 'Agentic AI systems hold the potential to achieve specific goals by dynamically interacting with human and model inputs to make decisions autonomously.', 'language': 'en-US'}, page_content='What are the Possible Challenges and Risks?\\nDespite their significant potential, agentic AI systems are still at a relatively early stage of development. As such, there are obstacles in fully leveraging their potential, including:'),\n",
       " Document(metadata={'source': 'https://www.adamsstreetpartners.com/insights/the-next-frontier-the-rise-of-agentic-ai/', 'title': 'The Next Frontier: The Rise of Agentic AI', 'description': 'Agentic AI systems hold the potential to achieve specific goals by dynamically interacting with human and model inputs to make decisions autonomously.', 'language': 'en-US'}, page_content='Control and Alignment: Ensuring agentic AI operates safely and aligns with human intentions.\\nRegulatory Uncertainty: Increasing AI autonomy will attract scrutiny from regulators, necessitating proactive governance strategies.\\nCompute Constraints: Running autonomous AI agents requires significant computational power, posing cost barriers.'),\n",
       " Document(metadata={'source': 'https://www.adamsstreetpartners.com/insights/the-next-frontier-the-rise-of-agentic-ai/', 'title': 'The Next Frontier: The Rise of Agentic AI', 'description': 'Agentic AI systems hold the potential to achieve specific goals by dynamically interacting with human and model inputs to make decisions autonomously.', 'language': 'en-US'}, page_content='Ethical Concerns: Issues such as deepfakes, misinformation, and bias must be addressed to ensure responsible AI deployment.'),\n",
       " Document(metadata={'source': 'https://www.adamsstreetpartners.com/insights/the-next-frontier-the-rise-of-agentic-ai/', 'title': 'The Next Frontier: The Rise of Agentic AI', 'description': 'Agentic AI systems hold the potential to achieve specific goals by dynamically interacting with human and model inputs to make decisions autonomously.', 'language': 'en-US'}, page_content='What Comes Next?\\nWe think the next wave of AI startups will likely focus on harnessing agentic AI to unlock new efficiencies, products, and business models. Whether through enabling infrastructure, verticalized AI agents, or hybrid human-AI collaboration tools, the companies that navigate this transition will likely define the next decade of innovation.'),\n",
       " Document(metadata={'source': 'https://www.adamsstreetpartners.com/insights/the-next-frontier-the-rise-of-agentic-ai/', 'title': 'The Next Frontier: The Rise of Agentic AI', 'description': 'Agentic AI systems hold the potential to achieve specific goals by dynamically interacting with human and model inputs to make decisions autonomously.', 'language': 'en-US'}, page_content='1. Consumer Electronics Show 2025 in Las Vegas, Nevada.\\n2. Capgemini Harnessing the value of generative AI: 2nd edition.'),\n",
       " Document(metadata={'source': 'https://www.adamsstreetpartners.com/insights/the-next-frontier-the-rise-of-agentic-ai/', 'title': 'The Next Frontier: The Rise of Agentic AI', 'description': 'Agentic AI systems hold the potential to achieve specific goals by dynamically interacting with human and model inputs to make decisions autonomously.', 'language': 'en-US'}, page_content='Important Considerations:\\xa0This information (the “Paper”) is provided for educational purposes only and is not investment advice or an offer or sale of any security or investment product or investment advice. Offerings are made only pursuant to a private offering memorandum containing important information. Statements in this Paper are made as of the date of this Paper unless stated otherwise, and'),\n",
       " Document(metadata={'source': 'https://www.adamsstreetpartners.com/insights/the-next-frontier-the-rise-of-agentic-ai/', 'title': 'The Next Frontier: The Rise of Agentic AI', 'description': 'Agentic AI systems hold the potential to achieve specific goals by dynamically interacting with human and model inputs to make decisions autonomously.', 'language': 'en-US'}, page_content='are made as of the date of this Paper unless stated otherwise, and there is no implication that the information contained herein is correct as of any time subsequent to such date. All information has been obtained from sources believed to be reliable and current, but accuracy cannot be guaranteed. References herein to specific sectors, general partners, companies, or investments are not to be'),\n",
       " Document(metadata={'source': 'https://www.adamsstreetpartners.com/insights/the-next-frontier-the-rise-of-agentic-ai/', 'title': 'The Next Frontier: The Rise of Agentic AI', 'description': 'Agentic AI systems hold the potential to achieve specific goals by dynamically interacting with human and model inputs to make decisions autonomously.', 'language': 'en-US'}, page_content='sectors, general partners, companies, or investments are not to be considered a recommendation or solicitation for any such sector, general partner, company, or investment. This Paper is not intended to be relied upon as investment advice as the investment situation of individuals is highly dependent on circumstances, which necessarily differ and are subject to change. The contents herein are not'),\n",
       " Document(metadata={'source': 'https://www.adamsstreetpartners.com/insights/the-next-frontier-the-rise-of-agentic-ai/', 'title': 'The Next Frontier: The Rise of Agentic AI', 'description': 'Agentic AI systems hold the potential to achieve specific goals by dynamically interacting with human and model inputs to make decisions autonomously.', 'language': 'en-US'}, page_content='differ and are subject to change. The contents herein are not to be construed as legal, business, or tax advice, and individuals should consult their own attorney, business advisor, and tax advisor as to legal, business, and tax advice. Past performance is not a guarantee of future results and there can be no guarantee against a loss, including a complete loss, of capital. Certain information'),\n",
       " Document(metadata={'source': 'https://www.adamsstreetpartners.com/insights/the-next-frontier-the-rise-of-agentic-ai/', 'title': 'The Next Frontier: The Rise of Agentic AI', 'description': 'Agentic AI systems hold the potential to achieve specific goals by dynamically interacting with human and model inputs to make decisions autonomously.', 'language': 'en-US'}, page_content='a loss, including a complete loss, of capital. Certain information contained herein constitutes “forward-looking statements” that may be identified by the use of forward-looking terminology such as “may,” “will,” “should,” “expect,” “anticipate,” “estimate,” “intend,” “continue,” or “believe” or the negatives thereof or other variations thereon or comparable terminology. Any forward-looking'),\n",
       " Document(metadata={'source': 'https://www.adamsstreetpartners.com/insights/the-next-frontier-the-rise-of-agentic-ai/', 'title': 'The Next Frontier: The Rise of Agentic AI', 'description': 'Agentic AI systems hold the potential to achieve specific goals by dynamically interacting with human and model inputs to make decisions autonomously.', 'language': 'en-US'}, page_content='variations thereon or comparable terminology. Any forward-looking statements included herein are based on Adams Street’s current opinions, assumptions, expectations, beliefs, intentions, estimates or strategies regarding future events, are subject to risks and uncertainties, and are provided for informational purposes only. Actual and future results and trends could differ materially, positively'),\n",
       " Document(metadata={'source': 'https://www.adamsstreetpartners.com/insights/the-next-frontier-the-rise-of-agentic-ai/', 'title': 'The Next Frontier: The Rise of Agentic AI', 'description': 'Agentic AI systems hold the potential to achieve specific goals by dynamically interacting with human and model inputs to make decisions autonomously.', 'language': 'en-US'}, page_content='and future results and trends could differ materially, positively or negatively, from those described or contemplated in such forward-looking statements. Moreover, actual events are difficult to project and often depend upon factors that are beyond the control of Adams Street. No forward-looking statements contained herein constitute a guarantee, promise, projection, forecast or prediction of, or'),\n",
       " Document(metadata={'source': 'https://www.adamsstreetpartners.com/insights/the-next-frontier-the-rise-of-agentic-ai/', 'title': 'The Next Frontier: The Rise of Agentic AI', 'description': 'Agentic AI systems hold the potential to achieve specific goals by dynamically interacting with human and model inputs to make decisions autonomously.', 'language': 'en-US'}, page_content='a guarantee, promise, projection, forecast or prediction of, or representation as to, the future and actual events may differ materially. Adams Street neither (i) assumes responsibility for the accuracy or completeness of any forward-looking statements, nor (ii) undertakes any obligation to update or revise any forward-looking statements for any reason after the date hereof. Also, general'),\n",
       " Document(metadata={'source': 'https://www.adamsstreetpartners.com/insights/the-next-frontier-the-rise-of-agentic-ai/', 'title': 'The Next Frontier: The Rise of Agentic AI', 'description': 'Agentic AI systems hold the potential to achieve specific goals by dynamically interacting with human and model inputs to make decisions autonomously.', 'language': 'en-US'}, page_content='statements for any reason after the date hereof. Also, general economic factors, which are not predictable, can have a material impact on the reliability of projections or forward-looking statements. Adams Street Partners, LLC is a US investment adviser governed by applicable US laws, which differ from laws in other jurisdictions'),\n",
       " Document(metadata={'source': 'https://www.adamsstreetpartners.com/insights/the-next-frontier-the-rise-of-agentic-ai/', 'title': 'The Next Frontier: The Rise of Agentic AI', 'description': 'Agentic AI systems hold the potential to achieve specific goals by dynamically interacting with human and model inputs to make decisions autonomously.', 'language': 'en-US'}, page_content='Posted In:                            Growth EquityArtificial IntelligenceAsia / RoWEuropeUS / North AmericaVentureOur Thinking \\n\\n\\n\\n\\nShare: \\n\\n\\n\\n\\n\\n\\n\\n \\n\\nRelated Insights \\n\\n\\n\\n\\n\\nWhy We Invested in Glean – Empowering Enterprise AI Productivity \\n\\n \\n \\n\\n\\n\\n\\n\\nWhy We Invested in Zip – Taking the Pain Out of Procurement'),\n",
       " Document(metadata={'source': 'https://www.adamsstreetpartners.com/insights/the-next-frontier-the-rise-of-agentic-ai/', 'title': 'The Next Frontier: The Rise of Agentic AI', 'description': 'Agentic AI systems hold the potential to achieve specific goals by dynamically interacting with human and model inputs to make decisions autonomously.', 'language': 'en-US'}, page_content='AI – A Venture Investment Opportunity That is Hard to Ignore \\n\\n \\n \\n \\n\\n\\n\\n\\n\\n\\n\\n\\n\\n\\nAustinBeijingBostonChicagoLondonMenlo ParkMunichNew YorkSeoulSingaporeSydneyTokyoToronto'),\n",
       " Document(metadata={'source': 'https://www.adamsstreetpartners.com/insights/the-next-frontier-the-rise-of-agentic-ai/', 'title': 'The Next Frontier: The Rise of Agentic AI', 'description': 'Agentic AI systems hold the potential to achieve specific goals by dynamically interacting with human and model inputs to make decisions autonomously.', 'language': 'en-US'}, page_content='Leading with Foresight™\\nAdams Street Partners strives to be the premier private markets investment manager by leveraging over five decades of relationships and data to develop unique private market insights and investment opportunities globally.\\nContact Us\\nFollow us on LinkedIn for the latest news & insights.\\n\\n\\n\\n\\n\\n \\n\\n\\nStrategies & Solutions'),\n",
       " Document(metadata={'source': 'https://www.adamsstreetpartners.com/insights/the-next-frontier-the-rise-of-agentic-ai/', 'title': 'The Next Frontier: The Rise of Agentic AI', 'description': 'Agentic AI systems hold the potential to achieve specific goals by dynamically interacting with human and model inputs to make decisions autonomously.', 'language': 'en-US'}, page_content='Strategies & Solutions\\n\\nCo-Investments\\nGrowth Equity\\nPrimary Investments\\nPrivate Credit\\nSecondary Investments\\nCustom Solutions\\nGrowth Capital Solutions\\nInsurance Solutions\\nPrivate Wealth Solutions\\nAdvisor Academy\\n\\n\\n \\n\\nEntrepreneurs & CEOs\\nOur Firm\\n\\nHistory\\nTeam\\nLeadership\\nNews\\nOffices\\n\\n\\nResponsibility\\nInsights\\nCareers'),\n",
       " Document(metadata={'source': 'https://www.adamsstreetpartners.com/insights/the-next-frontier-the-rise-of-agentic-ai/', 'title': 'The Next Frontier: The Rise of Agentic AI', 'description': 'Agentic AI systems hold the potential to achieve specific goals by dynamically interacting with human and model inputs to make decisions autonomously.', 'language': 'en-US'}, page_content='Responsibility\\nInsights\\nCareers\\n \\n\\n\\n\\n\\n\\n\\n\\n\\n\\nAlso of InterestAI Holds Promise to Drive Standards of Care,...Why We Invested in Glean – Empowering...Why We Invested in Level AI – Accelerating...'),\n",
       " Document(metadata={'source': 'https://www.adamsstreetpartners.com/insights/the-next-frontier-the-rise-of-agentic-ai/', 'title': 'The Next Frontier: The Rise of Agentic AI', 'description': 'Agentic AI systems hold the potential to achieve specific goals by dynamically interacting with human and model inputs to make decisions autonomously.', 'language': 'en-US'}, page_content='Investor Login\\n © 2025 Adams Street Partners\\nLegal Disclosures\\nPrivacy Notice\\nCookie Declaration\\nSitemap'),\n",
       " Document(metadata={'source': 'https://www.adamsstreetpartners.com/insights/the-next-frontier-the-rise-of-agentic-ai/', 'title': 'The Next Frontier: The Rise of Agentic AI', 'description': 'Agentic AI systems hold the potential to achieve specific goals by dynamically interacting with human and model inputs to make decisions autonomously.', 'language': 'en-US'}, page_content='Adams Street Partners, LLC is registered as an investment adviser with the U.S. Securities and Exchange Commission. Adams Street Partners UK LLP is authorized and regulated by the UK Financial Conduct Authority. Adams Street (Europe) GmbH is authorized and regulated by the German Federal Financial Supervisory Authority (BaFin). Adams Street Partners, LLC is a limited liability'),\n",
       " Document(metadata={'source': 'https://www.adamsstreetpartners.com/insights/the-next-frontier-the-rise-of-agentic-ai/', 'title': 'The Next Frontier: The Rise of Agentic AI', 'description': 'Agentic AI systems hold the potential to achieve specific goals by dynamically interacting with human and model inputs to make decisions autonomously.', 'language': 'en-US'}, page_content='Authority (BaFin). Adams Street Partners, LLC is a limited liability company formed in Delaware; Australian Registered Body Number 665 655 738')]"
      ]
     },
     "execution_count": 6,
     "metadata": {},
     "output_type": "execute_result"
    }
   ],
   "source": [
    "chunks"
   ]
  },
  {
   "cell_type": "code",
   "execution_count": 7,
   "id": "2627fa5a",
   "metadata": {},
   "outputs": [],
   "source": [
    "from langchain_openai import OpenAIEmbeddings\n",
    "embeddings = OpenAIEmbeddings(model=\"text-embedding-3-large\")"
   ]
  },
  {
   "cell_type": "code",
   "execution_count": 9,
   "id": "85613298",
   "metadata": {},
   "outputs": [],
   "source": [
    "from langchain_community.vectorstores import FAISS\n",
    "db = FAISS.from_documents(chunks, embeddings)"
   ]
  },
  {
   "cell_type": "code",
   "execution_count": null,
   "id": "c58382d9",
   "metadata": {},
   "outputs": [],
   "source": [
    "##querying from a vectorstore database\n",
    "query = \"Improved reasoning, planning, and multistep execution enable greater autonomy.\"\n",
    "result = db.similarity_search(query)"
   ]
  },
  {
   "cell_type": "code",
   "execution_count": 16,
   "id": "69b11c56",
   "metadata": {},
   "outputs": [
    {
     "data": {
      "text/plain": [
       "'Advances in Large Language Models: Improved reasoning, planning, and multistep execution enable greater autonomy.\\nMemory and Context Windows: Enhanced memory architectures allow AI agents to retain long-term context, improving performance on evolving tasks.\\nReinforcement Learning and Fine Tuning: AI agents can self-improve through reinforcement learning and environment interactions.'"
      ]
     },
     "execution_count": 16,
     "metadata": {},
     "output_type": "execute_result"
    }
   ],
   "source": [
    "result[0].page_content"
   ]
  },
  {
   "cell_type": "code",
   "execution_count": 17,
   "id": "7fe81472",
   "metadata": {},
   "outputs": [],
   "source": [
    "from langchain_openai import ChatOpenAI\n",
    "llm = ChatOpenAI(model=\"gpt-4o\")"
   ]
  },
  {
   "cell_type": "code",
   "execution_count": 19,
   "id": "e0089401",
   "metadata": {},
   "outputs": [],
   "source": [
    "from langchain.chains.combine_documents import create_stuff_documents_chain\n",
    "from langchain_core.prompts import ChatPromptTemplate\n",
    "\n",
    "prompt = ChatPromptTemplate.from_template(\n",
    "    '''\n",
    "Answer the following question based on the provided context:\n",
    "<context>\n",
    "{context}\n",
    "</context>\n",
    "    '''\n",
    "    )\n",
    "\n",
    "document_chain = create_stuff_documents_chain(llm,prompt)"
   ]
  },
  {
   "cell_type": "code",
   "execution_count": 22,
   "id": "d7a629df",
   "metadata": {},
   "outputs": [],
   "source": [
    "#using Retriever\n",
    "\n",
    "retriever = db.as_retriever()\n",
    "from langchain.chains import create_retrieval_chain\n",
    "retriever_chain=create_retrieval_chain(retriever,document_chain)"
   ]
  },
  {
   "cell_type": "code",
   "execution_count": 23,
   "id": "9f70dd29",
   "metadata": {},
   "outputs": [],
   "source": [
    "response = retriever_chain.invoke({\"input\": \"While many agentic AI applications are in early development, potential use cases are emerging across industries and functions.\"})"
   ]
  },
  {
   "cell_type": "code",
   "execution_count": 24,
   "id": "9d5e0323",
   "metadata": {},
   "outputs": [
    {
     "data": {
      "text/plain": [
       "{'input': 'While many agentic AI applications are in early development, potential use cases are emerging across industries and functions.',\n",
       " 'context': [Document(id='06915818-815f-4150-b64d-2fddb9da0d94', metadata={'source': 'https://www.adamsstreetpartners.com/insights/the-next-frontier-the-rise-of-agentic-ai/', 'title': 'The Next Frontier: The Rise of Agentic AI', 'description': 'Agentic AI systems hold the potential to achieve specific goals by dynamically interacting with human and model inputs to make decisions autonomously.', 'language': 'en-US'}, page_content='What are the Potential Use Cases?\\nWhile many agentic AI applications are in early development, potential use cases are emerging across industries and functions. A few examples include:'),\n",
       "  Document(id='9d6012d1-6eb2-413b-80ca-a543c7fdc2d1', metadata={'source': 'https://www.adamsstreetpartners.com/insights/the-next-frontier-the-rise-of-agentic-ai/', 'title': 'The Next Frontier: The Rise of Agentic AI', 'description': 'Agentic AI systems hold the potential to achieve specific goals by dynamically interacting with human and model inputs to make decisions autonomously.', 'language': 'en-US'}, page_content='Agentic AI systems go beyond providing rote, predetermined outputs by autonomously executing intricate workflows and making dynamic decisions to achieve defined outcomes\\nWhile use cases are still in early development, agentic AI systems are beginning to demonstrate their value in areas like procurement, sales support, and customer service'),\n",
       "  Document(id='050ab651-733c-41cd-ad58-6d4dc0ccf2dd', metadata={'source': 'https://www.adamsstreetpartners.com/insights/the-next-frontier-the-rise-of-agentic-ai/', 'title': 'The Next Frontier: The Rise of Agentic AI', 'description': 'Agentic AI systems hold the potential to achieve specific goals by dynamically interacting with human and model inputs to make decisions autonomously.', 'language': 'en-US'}, page_content='What are the Possible Challenges and Risks?\\nDespite their significant potential, agentic AI systems are still at a relatively early stage of development. As such, there are obstacles in fully leveraging their potential, including:'),\n",
       "  Document(id='3528967c-298a-4dca-9090-ec0ae1b852c0', metadata={'source': 'https://www.adamsstreetpartners.com/insights/the-next-frontier-the-rise-of-agentic-ai/', 'title': 'The Next Frontier: The Rise of Agentic AI', 'description': 'Agentic AI systems hold the potential to achieve specific goals by dynamically interacting with human and model inputs to make decisions autonomously.', 'language': 'en-US'}, page_content='Organizations of the future may operate with millions of agentic AI systems under human supervision\\nWe believe the next wave of AI startups will likely be those that successfully harness agentic AI to unlock new efficiencies, products, and business models')],\n",
       " 'answer': 'Based on the provided context, potential use cases for agentic AI systems include:\\n\\n1. Procurement: Enhancing the efficiency and accuracy of procurement processes.\\n2. Sales Support: Assisting sales teams by automating tasks and providing dynamic sales insights.\\n3. Customer Service: Improving the customer service experience through autonomous decision-making and workflow execution.\\n\\nHowever, the possible challenges and risks associated with agentic AI systems include:\\n\\n1. Early Development Stage: Agentic AI systems are still in the early stages of development, which may pose technical challenges and limit their current applicability.\\n2. Managing Complexity: Future organizations might need to manage millions of agentic AI systems, requiring robust systems for supervision and integration.\\n3. Unlocking Potential: There is uncertainty regarding how successfully agentic AI can be harnessed to achieve efficiencies, new products, and business models, pointing to potential risks in the investment and deployment phases.'}"
      ]
     },
     "execution_count": 24,
     "metadata": {},
     "output_type": "execute_result"
    }
   ],
   "source": [
    "response"
   ]
  },
  {
   "cell_type": "code",
   "execution_count": 25,
   "id": "5add0118",
   "metadata": {},
   "outputs": [
    {
     "data": {
      "text/plain": [
       "[Document(id='06915818-815f-4150-b64d-2fddb9da0d94', metadata={'source': 'https://www.adamsstreetpartners.com/insights/the-next-frontier-the-rise-of-agentic-ai/', 'title': 'The Next Frontier: The Rise of Agentic AI', 'description': 'Agentic AI systems hold the potential to achieve specific goals by dynamically interacting with human and model inputs to make decisions autonomously.', 'language': 'en-US'}, page_content='What are the Potential Use Cases?\\nWhile many agentic AI applications are in early development, potential use cases are emerging across industries and functions. A few examples include:'),\n",
       " Document(id='9d6012d1-6eb2-413b-80ca-a543c7fdc2d1', metadata={'source': 'https://www.adamsstreetpartners.com/insights/the-next-frontier-the-rise-of-agentic-ai/', 'title': 'The Next Frontier: The Rise of Agentic AI', 'description': 'Agentic AI systems hold the potential to achieve specific goals by dynamically interacting with human and model inputs to make decisions autonomously.', 'language': 'en-US'}, page_content='Agentic AI systems go beyond providing rote, predetermined outputs by autonomously executing intricate workflows and making dynamic decisions to achieve defined outcomes\\nWhile use cases are still in early development, agentic AI systems are beginning to demonstrate their value in areas like procurement, sales support, and customer service'),\n",
       " Document(id='050ab651-733c-41cd-ad58-6d4dc0ccf2dd', metadata={'source': 'https://www.adamsstreetpartners.com/insights/the-next-frontier-the-rise-of-agentic-ai/', 'title': 'The Next Frontier: The Rise of Agentic AI', 'description': 'Agentic AI systems hold the potential to achieve specific goals by dynamically interacting with human and model inputs to make decisions autonomously.', 'language': 'en-US'}, page_content='What are the Possible Challenges and Risks?\\nDespite their significant potential, agentic AI systems are still at a relatively early stage of development. As such, there are obstacles in fully leveraging their potential, including:'),\n",
       " Document(id='3528967c-298a-4dca-9090-ec0ae1b852c0', metadata={'source': 'https://www.adamsstreetpartners.com/insights/the-next-frontier-the-rise-of-agentic-ai/', 'title': 'The Next Frontier: The Rise of Agentic AI', 'description': 'Agentic AI systems hold the potential to achieve specific goals by dynamically interacting with human and model inputs to make decisions autonomously.', 'language': 'en-US'}, page_content='Organizations of the future may operate with millions of agentic AI systems under human supervision\\nWe believe the next wave of AI startups will likely be those that successfully harness agentic AI to unlock new efficiencies, products, and business models')]"
      ]
     },
     "execution_count": 25,
     "metadata": {},
     "output_type": "execute_result"
    }
   ],
   "source": [
    "response['context']"
   ]
  }
 ],
 "metadata": {
  "kernelspec": {
   "display_name": "myenv",
   "language": "python",
   "name": "python3"
  },
  "language_info": {
   "codemirror_mode": {
    "name": "ipython",
    "version": 3
   },
   "file_extension": ".py",
   "mimetype": "text/x-python",
   "name": "python",
   "nbconvert_exporter": "python",
   "pygments_lexer": "ipython3",
   "version": "3.10.16"
  }
 },
 "nbformat": 4,
 "nbformat_minor": 5
}
